{
 "cells": [
  {
   "cell_type": "markdown",
   "metadata": {},
   "source": [
    "# Análise de dados de E-commerce\n",
    "\n",
    "\n",
    "### Objetivo: Obter insights e buscar padrões.\n",
    "\n",
    "Fonte dos dados: https://www.kaggle.com/olistbr/brazilian-ecommerce\n",
    "\n",
    "O dataset contém informações de 100 mil pedidos de 2016 a 2018 feitos em diversos mercados no Brasil."
   ]
  },
  {
   "cell_type": "code",
   "execution_count": null,
   "metadata": {},
   "outputs": [],
   "source": [
    "# Pacotes.\n",
    "import pandas as pd\n",
    "import numpy as np\n",
    "from matplotlib import pyplot as plt\n",
    "import seaborn as sns\n",
    "import warnings\n",
    "warnings.filterwarnings('ignore')"
   ]
  },
  {
   "cell_type": "code",
   "execution_count": 2,
   "metadata": {},
   "outputs": [],
   "source": [
    "# Importando os dados.\n",
    "customers = pd.read_csv(\"olist_customers_dataset.csv\")\n",
    "order_items = pd.read_csv(\"olist_order_items_dataset.csv\")\n",
    "order_payments = pd.read_csv(\"olist_order_payments_dataset.csv\")\n",
    "order_reviews = pd.read_csv(\"olist_order_reviews_dataset.csv\")\n",
    "orders = pd.read_csv(\"olist_orders_dataset.csv\")\n",
    "products = pd.read_csv(\"olist_products_dataset.csv\")\n",
    "sellers = pd.read_csv(\"olist_sellers_dataset.csv\")\n",
    "product_category_name = pd.read_csv(\"product_category_name_translation.csv\")"
   ]
  },
  {
   "cell_type": "code",
   "execution_count": 3,
   "metadata": {},
   "outputs": [
    {
     "data": {
      "text/html": [
       "<div>\n",
       "<style scoped>\n",
       "    .dataframe tbody tr th:only-of-type {\n",
       "        vertical-align: middle;\n",
       "    }\n",
       "\n",
       "    .dataframe tbody tr th {\n",
       "        vertical-align: top;\n",
       "    }\n",
       "\n",
       "    .dataframe thead th {\n",
       "        text-align: right;\n",
       "    }\n",
       "</style>\n",
       "<table border=\"1\" class=\"dataframe\">\n",
       "  <thead>\n",
       "    <tr style=\"text-align: right;\">\n",
       "      <th></th>\n",
       "      <th>order_id</th>\n",
       "      <th>customer_id</th>\n",
       "      <th>order_status</th>\n",
       "      <th>order_purchase_timestamp</th>\n",
       "      <th>order_approved_at</th>\n",
       "      <th>order_delivered_carrier_date</th>\n",
       "      <th>order_delivered_customer_date</th>\n",
       "      <th>order_estimated_delivery_date</th>\n",
       "      <th>customer_unique_id</th>\n",
       "      <th>customer_zip_code_prefix</th>\n",
       "      <th>...</th>\n",
       "      <th>product_description_lenght</th>\n",
       "      <th>product_photos_qty</th>\n",
       "      <th>product_weight_g</th>\n",
       "      <th>product_length_cm</th>\n",
       "      <th>product_height_cm</th>\n",
       "      <th>product_width_cm</th>\n",
       "      <th>seller_zip_code_prefix</th>\n",
       "      <th>seller_city</th>\n",
       "      <th>seller_state</th>\n",
       "      <th>product_category_name_english</th>\n",
       "    </tr>\n",
       "  </thead>\n",
       "  <tbody>\n",
       "    <tr>\n",
       "      <th>0</th>\n",
       "      <td>e481f51cbdc54678b7cc49136f2d6af7</td>\n",
       "      <td>9ef432eb6251297304e76186b10a928d</td>\n",
       "      <td>delivered</td>\n",
       "      <td>2017-10-02 10:56:33</td>\n",
       "      <td>2017-10-02 11:07:15</td>\n",
       "      <td>2017-10-04 19:55:00</td>\n",
       "      <td>2017-10-10 21:25:13</td>\n",
       "      <td>2017-10-18 00:00:00</td>\n",
       "      <td>7c396fd4830fd04220f754e42b4e5bff</td>\n",
       "      <td>3149</td>\n",
       "      <td>...</td>\n",
       "      <td>268.0</td>\n",
       "      <td>4.0</td>\n",
       "      <td>500.0</td>\n",
       "      <td>19.0</td>\n",
       "      <td>8.0</td>\n",
       "      <td>13.0</td>\n",
       "      <td>9350</td>\n",
       "      <td>maua</td>\n",
       "      <td>SP</td>\n",
       "      <td>housewares</td>\n",
       "    </tr>\n",
       "    <tr>\n",
       "      <th>1</th>\n",
       "      <td>e481f51cbdc54678b7cc49136f2d6af7</td>\n",
       "      <td>9ef432eb6251297304e76186b10a928d</td>\n",
       "      <td>delivered</td>\n",
       "      <td>2017-10-02 10:56:33</td>\n",
       "      <td>2017-10-02 11:07:15</td>\n",
       "      <td>2017-10-04 19:55:00</td>\n",
       "      <td>2017-10-10 21:25:13</td>\n",
       "      <td>2017-10-18 00:00:00</td>\n",
       "      <td>7c396fd4830fd04220f754e42b4e5bff</td>\n",
       "      <td>3149</td>\n",
       "      <td>...</td>\n",
       "      <td>268.0</td>\n",
       "      <td>4.0</td>\n",
       "      <td>500.0</td>\n",
       "      <td>19.0</td>\n",
       "      <td>8.0</td>\n",
       "      <td>13.0</td>\n",
       "      <td>9350</td>\n",
       "      <td>maua</td>\n",
       "      <td>SP</td>\n",
       "      <td>housewares</td>\n",
       "    </tr>\n",
       "    <tr>\n",
       "      <th>2</th>\n",
       "      <td>e481f51cbdc54678b7cc49136f2d6af7</td>\n",
       "      <td>9ef432eb6251297304e76186b10a928d</td>\n",
       "      <td>delivered</td>\n",
       "      <td>2017-10-02 10:56:33</td>\n",
       "      <td>2017-10-02 11:07:15</td>\n",
       "      <td>2017-10-04 19:55:00</td>\n",
       "      <td>2017-10-10 21:25:13</td>\n",
       "      <td>2017-10-18 00:00:00</td>\n",
       "      <td>7c396fd4830fd04220f754e42b4e5bff</td>\n",
       "      <td>3149</td>\n",
       "      <td>...</td>\n",
       "      <td>268.0</td>\n",
       "      <td>4.0</td>\n",
       "      <td>500.0</td>\n",
       "      <td>19.0</td>\n",
       "      <td>8.0</td>\n",
       "      <td>13.0</td>\n",
       "      <td>9350</td>\n",
       "      <td>maua</td>\n",
       "      <td>SP</td>\n",
       "      <td>housewares</td>\n",
       "    </tr>\n",
       "    <tr>\n",
       "      <th>3</th>\n",
       "      <td>128e10d95713541c87cd1a2e48201934</td>\n",
       "      <td>a20e8105f23924cd00833fd87daa0831</td>\n",
       "      <td>delivered</td>\n",
       "      <td>2017-08-15 18:29:31</td>\n",
       "      <td>2017-08-15 20:05:16</td>\n",
       "      <td>2017-08-17 15:28:33</td>\n",
       "      <td>2017-08-18 14:44:43</td>\n",
       "      <td>2017-08-28 00:00:00</td>\n",
       "      <td>3a51803cc0d012c3b5dc8b7528cb05f7</td>\n",
       "      <td>3366</td>\n",
       "      <td>...</td>\n",
       "      <td>268.0</td>\n",
       "      <td>4.0</td>\n",
       "      <td>500.0</td>\n",
       "      <td>19.0</td>\n",
       "      <td>8.0</td>\n",
       "      <td>13.0</td>\n",
       "      <td>9350</td>\n",
       "      <td>maua</td>\n",
       "      <td>SP</td>\n",
       "      <td>housewares</td>\n",
       "    </tr>\n",
       "    <tr>\n",
       "      <th>4</th>\n",
       "      <td>0e7e841ddf8f8f2de2bad69267ecfbcf</td>\n",
       "      <td>26c7ac168e1433912a51b924fbd34d34</td>\n",
       "      <td>delivered</td>\n",
       "      <td>2017-08-02 18:24:47</td>\n",
       "      <td>2017-08-02 18:43:15</td>\n",
       "      <td>2017-08-04 17:35:43</td>\n",
       "      <td>2017-08-07 18:30:01</td>\n",
       "      <td>2017-08-15 00:00:00</td>\n",
       "      <td>ef0996a1a279c26e7ecbd737be23d235</td>\n",
       "      <td>2290</td>\n",
       "      <td>...</td>\n",
       "      <td>268.0</td>\n",
       "      <td>4.0</td>\n",
       "      <td>500.0</td>\n",
       "      <td>19.0</td>\n",
       "      <td>8.0</td>\n",
       "      <td>13.0</td>\n",
       "      <td>9350</td>\n",
       "      <td>maua</td>\n",
       "      <td>SP</td>\n",
       "      <td>housewares</td>\n",
       "    </tr>\n",
       "  </tbody>\n",
       "</table>\n",
       "<p>5 rows × 41 columns</p>\n",
       "</div>"
      ],
      "text/plain": [
       "                           order_id                       customer_id  \\\n",
       "0  e481f51cbdc54678b7cc49136f2d6af7  9ef432eb6251297304e76186b10a928d   \n",
       "1  e481f51cbdc54678b7cc49136f2d6af7  9ef432eb6251297304e76186b10a928d   \n",
       "2  e481f51cbdc54678b7cc49136f2d6af7  9ef432eb6251297304e76186b10a928d   \n",
       "3  128e10d95713541c87cd1a2e48201934  a20e8105f23924cd00833fd87daa0831   \n",
       "4  0e7e841ddf8f8f2de2bad69267ecfbcf  26c7ac168e1433912a51b924fbd34d34   \n",
       "\n",
       "  order_status order_purchase_timestamp    order_approved_at  \\\n",
       "0    delivered      2017-10-02 10:56:33  2017-10-02 11:07:15   \n",
       "1    delivered      2017-10-02 10:56:33  2017-10-02 11:07:15   \n",
       "2    delivered      2017-10-02 10:56:33  2017-10-02 11:07:15   \n",
       "3    delivered      2017-08-15 18:29:31  2017-08-15 20:05:16   \n",
       "4    delivered      2017-08-02 18:24:47  2017-08-02 18:43:15   \n",
       "\n",
       "  order_delivered_carrier_date order_delivered_customer_date  \\\n",
       "0          2017-10-04 19:55:00           2017-10-10 21:25:13   \n",
       "1          2017-10-04 19:55:00           2017-10-10 21:25:13   \n",
       "2          2017-10-04 19:55:00           2017-10-10 21:25:13   \n",
       "3          2017-08-17 15:28:33           2017-08-18 14:44:43   \n",
       "4          2017-08-04 17:35:43           2017-08-07 18:30:01   \n",
       "\n",
       "  order_estimated_delivery_date                customer_unique_id  \\\n",
       "0           2017-10-18 00:00:00  7c396fd4830fd04220f754e42b4e5bff   \n",
       "1           2017-10-18 00:00:00  7c396fd4830fd04220f754e42b4e5bff   \n",
       "2           2017-10-18 00:00:00  7c396fd4830fd04220f754e42b4e5bff   \n",
       "3           2017-08-28 00:00:00  3a51803cc0d012c3b5dc8b7528cb05f7   \n",
       "4           2017-08-15 00:00:00  ef0996a1a279c26e7ecbd737be23d235   \n",
       "\n",
       "   customer_zip_code_prefix  ... product_description_lenght  \\\n",
       "0                      3149  ...                      268.0   \n",
       "1                      3149  ...                      268.0   \n",
       "2                      3149  ...                      268.0   \n",
       "3                      3366  ...                      268.0   \n",
       "4                      2290  ...                      268.0   \n",
       "\n",
       "  product_photos_qty product_weight_g product_length_cm  product_height_cm  \\\n",
       "0                4.0            500.0              19.0                8.0   \n",
       "1                4.0            500.0              19.0                8.0   \n",
       "2                4.0            500.0              19.0                8.0   \n",
       "3                4.0            500.0              19.0                8.0   \n",
       "4                4.0            500.0              19.0                8.0   \n",
       "\n",
       "  product_width_cm seller_zip_code_prefix seller_city seller_state  \\\n",
       "0             13.0                   9350        maua           SP   \n",
       "1             13.0                   9350        maua           SP   \n",
       "2             13.0                   9350        maua           SP   \n",
       "3             13.0                   9350        maua           SP   \n",
       "4             13.0                   9350        maua           SP   \n",
       "\n",
       "   product_category_name_english  \n",
       "0                     housewares  \n",
       "1                     housewares  \n",
       "2                     housewares  \n",
       "3                     housewares  \n",
       "4                     housewares  \n",
       "\n",
       "[5 rows x 41 columns]"
      ]
     },
     "execution_count": 3,
     "metadata": {},
     "output_type": "execute_result"
    }
   ],
   "source": [
    "# Merge\n",
    "df = orders.copy()\n",
    "df = df.merge(customers,on='customer_id',indicator = True)\n",
    "df = df.merge(order_reviews,on='order_id')\n",
    "df = df.merge(order_payments,on='order_id')\n",
    "df = df.merge(order_items,on='order_id')\n",
    "df = df.merge(products,on='product_id')\n",
    "df = df.merge(sellers,on='seller_id')\n",
    "df = df.merge(product_category_name)\n",
    "df.head()"
   ]
  },
  {
   "cell_type": "code",
   "execution_count": 4,
   "metadata": {},
   "outputs": [
    {
     "name": "stdout",
     "output_type": "stream",
     "text": [
      "<class 'pandas.core.frame.DataFrame'>\n",
      "Int64Index: 116581 entries, 0 to 116580\n",
      "Data columns (total 41 columns):\n",
      "order_id                         116581 non-null object\n",
      "customer_id                      116581 non-null object\n",
      "order_status                     116581 non-null object\n",
      "order_purchase_timestamp         116581 non-null object\n",
      "order_approved_at                116567 non-null object\n",
      "order_delivered_carrier_date     115368 non-null object\n",
      "order_delivered_customer_date    114066 non-null object\n",
      "order_estimated_delivery_date    116581 non-null object\n",
      "customer_unique_id               116581 non-null object\n",
      "customer_zip_code_prefix         116581 non-null int64\n",
      "customer_city                    116581 non-null object\n",
      "customer_state                   116581 non-null object\n",
      "_merge                           116581 non-null category\n",
      "review_id                        116581 non-null object\n",
      "review_score                     116581 non-null int64\n",
      "review_comment_title             13996 non-null object\n",
      "review_comment_message           49878 non-null object\n",
      "review_creation_date             116581 non-null object\n",
      "review_answer_timestamp          116581 non-null object\n",
      "payment_sequential               116581 non-null int64\n",
      "payment_type                     116581 non-null object\n",
      "payment_installments             116581 non-null int64\n",
      "payment_value                    116581 non-null float64\n",
      "order_item_id                    116581 non-null int64\n",
      "product_id                       116581 non-null object\n",
      "seller_id                        116581 non-null object\n",
      "shipping_limit_date              116581 non-null object\n",
      "price                            116581 non-null float64\n",
      "freight_value                    116581 non-null float64\n",
      "product_category_name            116581 non-null object\n",
      "product_name_lenght              116581 non-null float64\n",
      "product_description_lenght       116581 non-null float64\n",
      "product_photos_qty               116581 non-null float64\n",
      "product_weight_g                 116580 non-null float64\n",
      "product_length_cm                116580 non-null float64\n",
      "product_height_cm                116580 non-null float64\n",
      "product_width_cm                 116580 non-null float64\n",
      "seller_zip_code_prefix           116581 non-null int64\n",
      "seller_city                      116581 non-null object\n",
      "seller_state                     116581 non-null object\n",
      "product_category_name_english    116581 non-null object\n",
      "dtypes: category(1), float64(10), int64(6), object(24)\n",
      "memory usage: 36.6+ MB\n"
     ]
    }
   ],
   "source": [
    "# Informações dos dados.\n",
    "df.info() "
   ]
  },
  {
   "cell_type": "markdown",
   "metadata": {},
   "source": [
    "## Total de vendas por UF"
   ]
  },
  {
   "cell_type": "code",
   "execution_count": 5,
   "metadata": {},
   "outputs": [
    {
     "data": {
      "image/png": "[encoded data removed]",
      "text/plain": [
       "<Figure size 1080x576 with 1 Axes>"
      ]
     },
     "metadata": {
      "needs_background": "light"
     },
     "output_type": "display_data"
    }
   ],
   "source": [
    "# plot.\n",
    "states = df.groupby(['customer_state']).sum()\n",
    "states['price'].plot(kind = \"barh\", figsize=(15,8))\n",
    "plt.title(\"Vendas por Estado\", fontsize = 18)\n",
    "plt.xlabel(\"Total\", fontsize = 15)\n",
    "plt.ylabel(\"UF\", fontsize = 15)\n",
    "plt.grid()\n",
    "plt.show()"
   ]
  },
  {
   "cell_type": "markdown",
   "metadata": {},
   "source": [
    "## Formas de pagamentos realizadas"
   ]
  },
  {
   "cell_type": "code",
   "execution_count": 6,
   "metadata": {},
   "outputs": [
    {
     "data": {
      "image/png": "[encoded data removed]",
      "text/plain": [
       "<Figure size 360x360 with 1 Axes>"
      ]
     },
     "metadata": {
      "needs_background": "light"
     },
     "output_type": "display_data"
    }
   ],
   "source": [
    "# plot.\n",
    "sns.catplot(x = \"payment_type\", kind = \"count\", palette = \"terrain_r\", edgecolor='black', data = df)\n",
    "plt.title(\"Pagamentos Realizados\", fontsize = 18)\n",
    "plt.xlabel(\"Forma de pagamento\", fontsize = 13)\n",
    "plt.ylabel(\"Quantidade\", fontsize = 13)\n",
    "plt.rc(\"grid\", linestyle = \"-\", color = \"black\")\n",
    "plt.grid(axis='y')\n",
    "plt.show()"
   ]
  },
  {
   "cell_type": "markdown",
   "metadata": {},
   "source": [
    "## Status dos pedidos"
   ]
  },
  {
   "cell_type": "code",
   "execution_count": 7,
   "metadata": {},
   "outputs": [
    {
     "data": {
      "image/png": "[encoded data removed]",
      "text/plain": [
       "<Figure size 1080x432 with 1 Axes>"
      ]
     },
     "metadata": {
      "needs_background": "light"
     },
     "output_type": "display_data"
    }
   ],
   "source": [
    "# Plot.\n",
    "plt.figure(figsize = (15,6))\n",
    "total = float(len(orders[\"order_status\"]))\n",
    "ax = sns.countplot(x=\"order_status\", data= orders)\n",
    "plt.title(\"Pedidos\", fontsize = 18)\n",
    "plt.xlabel(\"Status\", fontsize = 14)\n",
    "plt.xticks(size = 11)\n",
    "plt.ylabel(\"Quantidade\", fontsize = 14)\n",
    "plt.yticks(size = 13)\n",
    "for i in ax.patches:\n",
    "    percentage = '{:.0f}%'.format(100 * i.get_height()/total)\n",
    "    x = i.get_x() + i.get_width()\n",
    "    y = i.get_height()\n",
    "    ax.annotate(percentage, (x, y), ha = \"left\")\n",
    "plt.show()"
   ]
  },
  {
   "cell_type": "markdown",
   "metadata": {},
   "source": [
    "## Custo médio de frete por cidade"
   ]
  },
  {
   "cell_type": "code",
   "execution_count": 8,
   "metadata": {},
   "outputs": [
    {
     "data": {
      "text/plain": [
       "seller_city\n",
       "jacarei / sao paulo            8.60\n",
       "sao paulo / sao paulo          9.17\n",
       "brotas                         9.51\n",
       "sao pauo                       9.56\n",
       "carapicuiba / sao paulo       11.10\n",
       "guaratingueta                 11.17\n",
       "mogi das cruses               11.19\n",
       "vicente de carvalho           11.51\n",
       "hortolandia                   11.54\n",
       "francisco morato              11.70\n",
       "franco da rocha               12.06\n",
       "pouso alegre                  12.48\n",
       "imigrante                     12.48\n",
       "marapoama                     12.69\n",
       "macatuba                      12.69\n",
       "cravinhos                     12.79\n",
       "avare                         12.79\n",
       "santa terezinha de goias      12.87\n",
       "fernando prestes              12.94\n",
       "mogi mirim                    12.96\n",
       "vargem grande paulista        13.03\n",
       "alvares machado               13.04\n",
       "divisa nova                   13.10\n",
       "santa maria da serra          13.15\n",
       "taboao da serra               13.18\n",
       "arinos                        13.31\n",
       "embu guacu                    13.32\n",
       "sando andre                   13.41\n",
       "miguelopolis                  13.58\n",
       "jaguariuna                    13.60\n",
       "santo andre/sao paulo         13.62\n",
       "orlandia                      13.64\n",
       "auriflama                     13.81\n",
       "bertioga                      13.82\n",
       "maua                          13.84\n",
       "itapema                       13.85\n",
       "igaracu do tiete              13.90\n",
       "saquarema                     13.93\n",
       "bom jesus dos perdoes         13.93\n",
       "almirante tamandare           14.10\n",
       "pitangueiras                  14.14\n",
       "governador valadares          14.14\n",
       "ribeirao pretp                14.17\n",
       "aparecida                     14.21\n",
       "dracena                       14.26\n",
       "monte alegre do sul           14.26\n",
       "sao paulop                    14.35\n",
       "socorro                       14.45\n",
       "itapetininga                  14.53\n",
       "mogi das cruzes / sp          14.55\n",
       "presidente bernardes          14.56\n",
       "mococa                        14.60\n",
       "varzea paulista               14.69\n",
       "ribeirao preto / sao paulo    14.70\n",
       "itabira                       14.73\n",
       "sao sebastiao da grama/sp     14.74\n",
       "pedrinhas paulista            14.77\n",
       "ao bernardo do campo          14.87\n",
       "engenheiro coelho             14.90\n",
       "robeirao preto                15.04\n",
       "Name: freight_value, dtype: float64"
      ]
     },
     "execution_count": 8,
     "metadata": {},
     "output_type": "execute_result"
    }
   ],
   "source": [
    "# Frete\n",
    "round(df.groupby(\"seller_city\")[\"freight_value\"].mean().sort_values(ascending = True).head(60), 2)"
   ]
  },
  {
   "cell_type": "markdown",
   "metadata": {},
   "source": [
    "## Custo médio de frete por UF"
   ]
  },
  {
   "cell_type": "code",
   "execution_count": 9,
   "metadata": {},
   "outputs": [
    {
     "data": {
      "image/png": "[encoded data removed]",
      "text/plain": [
       "<Figure size 1080x432 with 1 Axes>"
      ]
     },
     "metadata": {
      "needs_background": "light"
     },
     "output_type": "display_data"
    }
   ],
   "source": [
    "# Plot.\n",
    "plt.figure(figsize = (15,6))\n",
    "df.groupby(\"customer_state\")[\"freight_value\"].mean().sort_values(ascending = True).plot.barh()\n",
    "plt.title(\"Frete por UF (Média)\", fontsize = 18)\n",
    "plt.xlabel(\"Valor em R$\", fontsize = 14)\n",
    "plt.ylabel(\"UF\", fontsize = 14)\n",
    "plt.grid(axis='x')\n",
    "plt.show()"
   ]
  },
  {
   "cell_type": "markdown",
   "metadata": {},
   "source": [
    "O Norte e Nordeste do país lideram os fretes mais caros, seguidos pelo Centro-Oeste, Sul e Sudeste."
   ]
  },
  {
   "cell_type": "code",
   "execution_count": 10,
   "metadata": {},
   "outputs": [
    {
     "data": {
      "text/html": [
       "<div>\n",
       "<style scoped>\n",
       "    .dataframe tbody tr th:only-of-type {\n",
       "        vertical-align: middle;\n",
       "    }\n",
       "\n",
       "    .dataframe tbody tr th {\n",
       "        vertical-align: top;\n",
       "    }\n",
       "\n",
       "    .dataframe thead th {\n",
       "        text-align: right;\n",
       "    }\n",
       "</style>\n",
       "<table border=\"1\" class=\"dataframe\">\n",
       "  <thead>\n",
       "    <tr style=\"text-align: right;\">\n",
       "      <th></th>\n",
       "      <th>order_purchase_timestamp</th>\n",
       "      <th>order_estimated_delivery_date</th>\n",
       "      <th>order_delivered_customer_date</th>\n",
       "      <th>customer_state</th>\n",
       "    </tr>\n",
       "  </thead>\n",
       "  <tbody>\n",
       "    <tr>\n",
       "      <th>0</th>\n",
       "      <td>2017-10-02 10:56:33</td>\n",
       "      <td>2017-10-18 00:00:00</td>\n",
       "      <td>2017-10-10 21:25:13</td>\n",
       "      <td>SP</td>\n",
       "    </tr>\n",
       "    <tr>\n",
       "      <th>1</th>\n",
       "      <td>2017-10-02 10:56:33</td>\n",
       "      <td>2017-10-18 00:00:00</td>\n",
       "      <td>2017-10-10 21:25:13</td>\n",
       "      <td>SP</td>\n",
       "    </tr>\n",
       "    <tr>\n",
       "      <th>2</th>\n",
       "      <td>2017-10-02 10:56:33</td>\n",
       "      <td>2017-10-18 00:00:00</td>\n",
       "      <td>2017-10-10 21:25:13</td>\n",
       "      <td>SP</td>\n",
       "    </tr>\n",
       "    <tr>\n",
       "      <th>3</th>\n",
       "      <td>2017-08-15 18:29:31</td>\n",
       "      <td>2017-08-28 00:00:00</td>\n",
       "      <td>2017-08-18 14:44:43</td>\n",
       "      <td>SP</td>\n",
       "    </tr>\n",
       "    <tr>\n",
       "      <th>4</th>\n",
       "      <td>2017-08-02 18:24:47</td>\n",
       "      <td>2017-08-15 00:00:00</td>\n",
       "      <td>2017-08-07 18:30:01</td>\n",
       "      <td>SP</td>\n",
       "    </tr>\n",
       "  </tbody>\n",
       "</table>\n",
       "</div>"
      ],
      "text/plain": [
       "  order_purchase_timestamp order_estimated_delivery_date  \\\n",
       "0      2017-10-02 10:56:33           2017-10-18 00:00:00   \n",
       "1      2017-10-02 10:56:33           2017-10-18 00:00:00   \n",
       "2      2017-10-02 10:56:33           2017-10-18 00:00:00   \n",
       "3      2017-08-15 18:29:31           2017-08-28 00:00:00   \n",
       "4      2017-08-02 18:24:47           2017-08-15 00:00:00   \n",
       "\n",
       "  order_delivered_customer_date customer_state  \n",
       "0           2017-10-10 21:25:13             SP  \n",
       "1           2017-10-10 21:25:13             SP  \n",
       "2           2017-10-10 21:25:13             SP  \n",
       "3           2017-08-18 14:44:43             SP  \n",
       "4           2017-08-07 18:30:01             SP  "
      ]
     },
     "execution_count": 10,
     "metadata": {},
     "output_type": "execute_result"
    }
   ],
   "source": [
    "# Obtendo algumas colunas.\n",
    "df2 = df[[\"order_purchase_timestamp\", \"order_estimated_delivery_date\", \"order_delivered_customer_date\", \"customer_state\"]]\n",
    "df2.head()"
   ]
  },
  {
   "cell_type": "code",
   "execution_count": 11,
   "metadata": {},
   "outputs": [
    {
     "data": {
      "text/plain": [
       "order_purchase_timestamp            0\n",
       "order_estimated_delivery_date       0\n",
       "order_delivered_customer_date    2515\n",
       "customer_state                      0\n",
       "dtype: int64"
      ]
     },
     "execution_count": 11,
     "metadata": {},
     "output_type": "execute_result"
    }
   ],
   "source": [
    "# Verificando valores missing.\n",
    "df2.isnull().sum()"
   ]
  },
  {
   "cell_type": "code",
   "execution_count": 12,
   "metadata": {},
   "outputs": [],
   "source": [
    "# No primeiro momento faremos a remoção dos valores missing.\n",
    "df2.dropna(inplace=True)"
   ]
  },
  {
   "cell_type": "code",
   "execution_count": 13,
   "metadata": {},
   "outputs": [],
   "source": [
    "# Transformando as variáveis em datetime.\n",
    "df2[\"purchase\"] = pd.to_datetime(df[\"order_purchase_timestamp\"])\n",
    "df2[\"estimated\"] = pd.to_datetime(df[\"order_estimated_delivery_date\"])\n",
    "df2[\"delivered\"] = pd.to_datetime(df[\"order_delivered_customer_date\"])"
   ]
  },
  {
   "cell_type": "code",
   "execution_count": 14,
   "metadata": {},
   "outputs": [
    {
     "data": {
      "text/html": [
       "<div>\n",
       "<style scoped>\n",
       "    .dataframe tbody tr th:only-of-type {\n",
       "        vertical-align: middle;\n",
       "    }\n",
       "\n",
       "    .dataframe tbody tr th {\n",
       "        vertical-align: top;\n",
       "    }\n",
       "\n",
       "    .dataframe thead th {\n",
       "        text-align: right;\n",
       "    }\n",
       "</style>\n",
       "<table border=\"1\" class=\"dataframe\">\n",
       "  <thead>\n",
       "    <tr style=\"text-align: right;\">\n",
       "      <th></th>\n",
       "      <th>order_purchase_timestamp</th>\n",
       "      <th>order_estimated_delivery_date</th>\n",
       "      <th>order_delivered_customer_date</th>\n",
       "      <th>customer_state</th>\n",
       "      <th>purchase</th>\n",
       "      <th>estimated</th>\n",
       "      <th>delivered</th>\n",
       "      <th>days_purch</th>\n",
       "      <th>days_est</th>\n",
       "    </tr>\n",
       "  </thead>\n",
       "  <tbody>\n",
       "    <tr>\n",
       "      <th>0</th>\n",
       "      <td>2017-10-02 10:56:33</td>\n",
       "      <td>2017-10-18 00:00:00</td>\n",
       "      <td>2017-10-10 21:25:13</td>\n",
       "      <td>SP</td>\n",
       "      <td>2017-10-02 10:56:33</td>\n",
       "      <td>2017-10-18</td>\n",
       "      <td>2017-10-10 21:25:13</td>\n",
       "      <td>8</td>\n",
       "      <td>15</td>\n",
       "    </tr>\n",
       "    <tr>\n",
       "      <th>1</th>\n",
       "      <td>2017-10-02 10:56:33</td>\n",
       "      <td>2017-10-18 00:00:00</td>\n",
       "      <td>2017-10-10 21:25:13</td>\n",
       "      <td>SP</td>\n",
       "      <td>2017-10-02 10:56:33</td>\n",
       "      <td>2017-10-18</td>\n",
       "      <td>2017-10-10 21:25:13</td>\n",
       "      <td>8</td>\n",
       "      <td>15</td>\n",
       "    </tr>\n",
       "    <tr>\n",
       "      <th>2</th>\n",
       "      <td>2017-10-02 10:56:33</td>\n",
       "      <td>2017-10-18 00:00:00</td>\n",
       "      <td>2017-10-10 21:25:13</td>\n",
       "      <td>SP</td>\n",
       "      <td>2017-10-02 10:56:33</td>\n",
       "      <td>2017-10-18</td>\n",
       "      <td>2017-10-10 21:25:13</td>\n",
       "      <td>8</td>\n",
       "      <td>15</td>\n",
       "    </tr>\n",
       "    <tr>\n",
       "      <th>3</th>\n",
       "      <td>2017-08-15 18:29:31</td>\n",
       "      <td>2017-08-28 00:00:00</td>\n",
       "      <td>2017-08-18 14:44:43</td>\n",
       "      <td>SP</td>\n",
       "      <td>2017-08-15 18:29:31</td>\n",
       "      <td>2017-08-28</td>\n",
       "      <td>2017-08-18 14:44:43</td>\n",
       "      <td>2</td>\n",
       "      <td>12</td>\n",
       "    </tr>\n",
       "    <tr>\n",
       "      <th>4</th>\n",
       "      <td>2017-08-02 18:24:47</td>\n",
       "      <td>2017-08-15 00:00:00</td>\n",
       "      <td>2017-08-07 18:30:01</td>\n",
       "      <td>SP</td>\n",
       "      <td>2017-08-02 18:24:47</td>\n",
       "      <td>2017-08-15</td>\n",
       "      <td>2017-08-07 18:30:01</td>\n",
       "      <td>5</td>\n",
       "      <td>12</td>\n",
       "    </tr>\n",
       "  </tbody>\n",
       "</table>\n",
       "</div>"
      ],
      "text/plain": [
       "  order_purchase_timestamp order_estimated_delivery_date  \\\n",
       "0      2017-10-02 10:56:33           2017-10-18 00:00:00   \n",
       "1      2017-10-02 10:56:33           2017-10-18 00:00:00   \n",
       "2      2017-10-02 10:56:33           2017-10-18 00:00:00   \n",
       "3      2017-08-15 18:29:31           2017-08-28 00:00:00   \n",
       "4      2017-08-02 18:24:47           2017-08-15 00:00:00   \n",
       "\n",
       "  order_delivered_customer_date customer_state            purchase  estimated  \\\n",
       "0           2017-10-10 21:25:13             SP 2017-10-02 10:56:33 2017-10-18   \n",
       "1           2017-10-10 21:25:13             SP 2017-10-02 10:56:33 2017-10-18   \n",
       "2           2017-10-10 21:25:13             SP 2017-10-02 10:56:33 2017-10-18   \n",
       "3           2017-08-18 14:44:43             SP 2017-08-15 18:29:31 2017-08-28   \n",
       "4           2017-08-07 18:30:01             SP 2017-08-02 18:24:47 2017-08-15   \n",
       "\n",
       "            delivered  days_purch  days_est  \n",
       "0 2017-10-10 21:25:13           8        15  \n",
       "1 2017-10-10 21:25:13           8        15  \n",
       "2 2017-10-10 21:25:13           8        15  \n",
       "3 2017-08-18 14:44:43           2        12  \n",
       "4 2017-08-07 18:30:01           5        12  "
      ]
     },
     "execution_count": 14,
     "metadata": {},
     "output_type": "execute_result"
    }
   ],
   "source": [
    "# Calculando as diferenças entre a entrega e a data de compra (em dias).\n",
    "df2[\"days_purch\"] = (df2[\"delivered\"] - df2[\"purchase\"]).dt.days\n",
    "\n",
    "# Calculando as diferenças entre a data estimada de entrega e a data de compra (em dias).\n",
    "df2[\"days_est\"] = (df2[\"estimated\"] - df2[\"purchase\"]).dt.days\n",
    "df2.head()"
   ]
  },
  {
   "cell_type": "markdown",
   "metadata": {},
   "source": [
    "## Tempo previsto de entrega"
   ]
  },
  {
   "cell_type": "code",
   "execution_count": 15,
   "metadata": {
    "scrolled": true
   },
   "outputs": [
    {
     "data": {
      "image/png": "[encoded data removed]",
      "text/plain": [
       "<Figure size 576x360 with 1 Axes>"
      ]
     },
     "metadata": {
      "needs_background": "light"
     },
     "output_type": "display_data"
    }
   ],
   "source": [
    "# Plot\n",
    "df2[\"days_est\"].plot.hist(bins = df2[\"days_est\"].max(), figsize = (8,5))\n",
    "plt.title('Tempo estimado para a entrega')\n",
    "plt.xlabel('Dias', fontsize = 14)\n",
    "plt.ylabel('Frequência', fontsize = 14)\n",
    "plt.grid(axis='y')"
   ]
  },
  {
   "cell_type": "markdown",
   "metadata": {},
   "source": [
    "## Tempo real de entrega"
   ]
  },
  {
   "cell_type": "code",
   "execution_count": 16,
   "metadata": {},
   "outputs": [
    {
     "data": {
      "image/png": "[encoded data removed]",
      "text/plain": [
       "<Figure size 576x360 with 1 Axes>"
      ]
     },
     "metadata": {
      "needs_background": "light"
     },
     "output_type": "display_data"
    }
   ],
   "source": [
    "# Plot\n",
    "df2[\"days_purch\"].plot.hist(bins = df2[\"days_purch\"].max(), color = \"g\", figsize = (8,5))\n",
    "plt.title('Dias para entregar')\n",
    "plt.xlabel('Dias', fontsize = 14)\n",
    "plt.ylabel('Frequência', fontsize = 14)\n",
    "plt.grid(axis='y')"
   ]
  },
  {
   "cell_type": "markdown",
   "metadata": {},
   "source": [
    "Como mostra acima, a entrega, na maioria dos casos é feita antes do prazo estimado."
   ]
  },
  {
   "cell_type": "code",
   "execution_count": 17,
   "metadata": {},
   "outputs": [],
   "source": [
    "# Criando a variável para analisar os atrasos.\n",
    "df2[\"delayed\"] = (df2[\"estimated\"] - df2[\"delivered\"]).dt.days\n",
    "\n",
    "# Obtendo os valores negativos que representam os atrasos.\n",
    "df2_count_delay = df2[df2[\"delayed\"] < 0].groupby([\"customer_state\"], as_index=False)[\"delayed\"].count()\n",
    "\n",
    "# Agrupando a UF nos dados.\n",
    "df2_total = df2.groupby(df2[\"customer_state\"], as_index = False)[\"delayed\"].count()"
   ]
  },
  {
   "cell_type": "code",
   "execution_count": 18,
   "metadata": {},
   "outputs": [],
   "source": [
    "# Unindo as informações.\n",
    "df2_total = df2_count_delay.merge(df2_total, on = \"customer_state\")\n",
    "df2_total.rename(columns = {\"delayed_y\" : \"total_orders\"}, inplace = True)"
   ]
  },
  {
   "cell_type": "code",
   "execution_count": 19,
   "metadata": {},
   "outputs": [
    {
     "data": {
      "text/html": [
       "<div>\n",
       "<style scoped>\n",
       "    .dataframe tbody tr th:only-of-type {\n",
       "        vertical-align: middle;\n",
       "    }\n",
       "\n",
       "    .dataframe tbody tr th {\n",
       "        vertical-align: top;\n",
       "    }\n",
       "\n",
       "    .dataframe thead th {\n",
       "        text-align: right;\n",
       "    }\n",
       "</style>\n",
       "<table border=\"1\" class=\"dataframe\">\n",
       "  <thead>\n",
       "    <tr style=\"text-align: right;\">\n",
       "      <th></th>\n",
       "      <th>customer_state</th>\n",
       "      <th>delayed_x</th>\n",
       "      <th>total_orders</th>\n",
       "      <th>%</th>\n",
       "    </tr>\n",
       "  </thead>\n",
       "  <tbody>\n",
       "    <tr>\n",
       "      <th>1</th>\n",
       "      <td>AL</td>\n",
       "      <td>108</td>\n",
       "      <td>441</td>\n",
       "      <td>24.49</td>\n",
       "    </tr>\n",
       "    <tr>\n",
       "      <th>9</th>\n",
       "      <td>MA</td>\n",
       "      <td>166</td>\n",
       "      <td>814</td>\n",
       "      <td>20.39</td>\n",
       "    </tr>\n",
       "    <tr>\n",
       "      <th>16</th>\n",
       "      <td>PI</td>\n",
       "      <td>87</td>\n",
       "      <td>547</td>\n",
       "      <td>15.90</td>\n",
       "    </tr>\n",
       "    <tr>\n",
       "      <th>24</th>\n",
       "      <td>SE</td>\n",
       "      <td>61</td>\n",
       "      <td>384</td>\n",
       "      <td>15.89</td>\n",
       "    </tr>\n",
       "    <tr>\n",
       "      <th>5</th>\n",
       "      <td>CE</td>\n",
       "      <td>219</td>\n",
       "      <td>1488</td>\n",
       "      <td>14.72</td>\n",
       "    </tr>\n",
       "  </tbody>\n",
       "</table>\n",
       "</div>"
      ],
      "text/plain": [
       "   customer_state  delayed_x  total_orders      %\n",
       "1              AL        108           441  24.49\n",
       "9              MA        166           814  20.39\n",
       "16             PI         87           547  15.90\n",
       "24             SE         61           384  15.89\n",
       "5              CE        219          1488  14.72"
      ]
     },
     "execution_count": 19,
     "metadata": {},
     "output_type": "execute_result"
    }
   ],
   "source": [
    "# Adicionando a variável com a % de atrasos.\n",
    "df2_total[\"%\"] = round((df2_total[\"delayed_x\"] / df2_total[\"total_orders\"]) * 100, 2)\n",
    "df2_total.sort_values(by = \"%\", ascending = False).head()"
   ]
  },
  {
   "cell_type": "code",
   "execution_count": 20,
   "metadata": {},
   "outputs": [],
   "source": [
    "# Instanciando as maiores e menores ocorrências de atraso.\n",
    "delay_max = df2_total[\"%\"].sort_values(ascending = False)[0:5]\n",
    "delay_min = df2_total[\"%\"].sort_values(ascending = True)[0:5]"
   ]
  },
  {
   "cell_type": "markdown",
   "metadata": {},
   "source": [
    "## Estados com maiores ocorrências de atraso"
   ]
  },
  {
   "cell_type": "code",
   "execution_count": 21,
   "metadata": {},
   "outputs": [
    {
     "data": {
      "image/png": "[encoded data removed]",
      "text/plain": [
       "<Figure size 432x288 with 1 Axes>"
      ]
     },
     "metadata": {
      "needs_background": "light"
     },
     "output_type": "display_data"
    }
   ],
   "source": [
    "UF = [\"AL\", \"MA\", \"PI\", \"SE\", \"CE\"]\n",
    "colors = [\"red\", \"tomato\", \"salmon\", \"salmon\", \"lightsalmon\"]\n",
    "plt.bar(UF, delay_max, color = colors)\n",
    "plt.title(\"Atrasos\", fontsize = 18)\n",
    "plt.ylabel(\"%\", fontsize = 15)\n",
    "plt.xlabel(\"UF\", fontsize = 14)\n",
    "plt.grid()\n",
    "plt.show()"
   ]
  },
  {
   "cell_type": "markdown",
   "metadata": {},
   "source": [
    "## Estados com menores ocorrências de atraso"
   ]
  },
  {
   "cell_type": "code",
   "execution_count": 22,
   "metadata": {},
   "outputs": [
    {
     "data": {
      "image/png": "[encoded data removed]",
      "text/plain": [
       "<Figure size 432x288 with 1 Axes>"
      ]
     },
     "metadata": {
      "needs_background": "light"
     },
     "output_type": "display_data"
    }
   ],
   "source": [
    "UF = [\"AC\", \"RO\", \"AM\", \"PR\", \"AP\"]\n",
    "colors = [\"navajowhite\", \"goldenrod\", \"orange\", \"darkorange\", \"darkorange\"]\n",
    "plt.bar(UF, delay_min, color = colors)\n",
    "plt.title(\"Atrasos\", fontsize = 18)\n",
    "plt.ylabel(\"%\", fontsize = 15)\n",
    "plt.xlabel(\"UF\", fontsize = 14)\n",
    "plt.grid()\n",
    "plt.show()"
   ]
  },
  {
   "cell_type": "markdown",
   "metadata": {},
   "source": [
    "Como podemos ver, no Nordeste do país, os atrasos são recorrentes, um dos motivos pode ser devido a distância. Mas por outro lado, a parte Norte, ocorre com menos frequência, posteriormente, poderemos obter mais informações."
   ]
  },
  {
   "cell_type": "code",
   "execution_count": 47,
   "metadata": {},
   "outputs": [],
   "source": [
    "# Merge.\n",
    "product_orders=pd.merge(order_items,products, on=\"product_id\")"
   ]
  },
  {
   "cell_type": "code",
   "execution_count": 52,
   "metadata": {},
   "outputs": [],
   "source": [
    "# Obtendo somente os 6 últimos caractétes de cada produto para uma análise.\n",
    "product_orders['product_id_shorten']=product_orders['product_id'].str[-6:]"
   ]
  },
  {
   "cell_type": "markdown",
   "metadata": {},
   "source": [
    "## Top 10 Produtos vendidos"
   ]
  },
  {
   "cell_type": "code",
   "execution_count": 80,
   "metadata": {},
   "outputs": [
    {
     "data": {
      "image/png": "[encoded data removed]",
      "text/plain": [
       "<Figure size 1440x720 with 1 Axes>"
      ]
     },
     "metadata": {},
     "output_type": "display_data"
    }
   ],
   "source": [
    "# Plot.\n",
    "\n",
    "plt.figure(figsize=(20,10))\n",
    "sns.countplot(x='product_id_shorten', data=product_orders, palette='gnuplot',\n",
    "             order=product_orders['product_id_shorten'].value_counts()[:10]\\\n",
    "             .sort_values().index).set_title(\"Products\", fontsize=18, weight='bold')\n",
    "plt.show()"
   ]
  },
  {
   "cell_type": "markdown",
   "metadata": {},
   "source": [
    "Pelas informações dos dados, não será possível dizer quais são os produtos, mas pelo que temos, será possível mostrar a sua categoria."
   ]
  },
  {
   "cell_type": "markdown",
   "metadata": {},
   "source": [
    "## Top 10 categorias"
   ]
  },
  {
   "cell_type": "code",
   "execution_count": 83,
   "metadata": {},
   "outputs": [
    {
     "data": {
      "image/png": "[encoded data removed]",
      "text/plain": [
       "<Figure size 1152x648 with 1 Axes>"
      ]
     },
     "metadata": {},
     "output_type": "display_data"
    }
   ],
   "source": [
    "product_orders.groupby([\"product_category_name\"])[\"product_id_shorten\"].count().sort_values(ascending = False).head(10).plot.barh()\n",
    "plt.title(\"Category\", fontsize = 18)\n",
    "plt.xlabel(\"Vendas\", fontsize = 14)\n",
    "plt.yticks(fontsize = 14)\n",
    "plt.show()"
   ]
  },
  {
   "cell_type": "markdown",
   "metadata": {},
   "source": [
    "Desta forma ficou bem intuitivo e podemos ver que a categiria de \"Cama, mesa e banho\", juntamente com a \"Beleza e saúde\", sobressaem das demais."
   ]
  },
  {
   "cell_type": "markdown",
   "metadata": {},
   "source": [
    "# Conclusão"
   ]
  },
  {
   "cell_type": "markdown",
   "metadata": {},
   "source": [
    "Alguns padrões e insights foram obtidos como:\n",
    "\n",
    "- Valores dos fretes por cidade e estado;\n",
    "- Situação atual dos pedidos;\n",
    "- Estados com mais/menos vendas;\n",
    "- As principais formas de pagamento;\n",
    "- Estados com mais/menos ocorrências de atrasos.\n",
    "\n",
    "Posteriormente será feito uma análise com mapas Geoespaciais, para apronfudarmos na questão dos atrasos recorrentes. "
   ]
  },
  {
   "cell_type": "code",
   "execution_count": null,
   "metadata": {},
   "outputs": [],
   "source": []
  }
 ],
 "metadata": {
  "kernelspec": {
   "display_name": "Python 3",
   "language": "python",
   "name": "python3"
  },
  "language_info": {
   "codemirror_mode": {
    "name": "ipython",
    "version": 3
   },
   "file_extension": ".py",
   "mimetype": "text/x-python",
   "name": "python",
   "nbconvert_exporter": "python",
   "pygments_lexer": "ipython3",
   "version": "3.7.4"
  }
 },
 "nbformat": 4,
 "nbformat_minor": 2
}
